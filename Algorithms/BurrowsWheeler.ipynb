{
 "cells": [
  {
   "cell_type": "code",
   "execution_count": null,
   "id": "9af4c33f",
   "metadata": {},
   "outputs": [],
   "source": [
    "#Burrows Wheeler Transform\n",
    "def BurrowsWheeler(sequence: str):\n",
    "    sequence = \"$\"+sequence\n",
    "    rotations = [] \n",
    "    for i in range(len(sequence)):\n",
    "        rotations.append(sequence[-i:]+sequence[:-i])\n",
    "    rotations.sort()\n",
    "\n",
    "    return \"\".join([letter[-1] for letter in rotations])\n",
    "\n",
    "#inverse Burrows Wheeler (Walk Left Algorithm)\n",
    "def Occ(bwt:str, letter: chr): # number of characters < character alphabetically\n",
    "    bwList = [ord(sym) for sym in bw]\n",
    "    return (sum([sym < ord(letter) for sym in bwList]))\n",
    "    \n",
    "def Count(bw, idx, letter): # number of characters before position with letter \n",
    "    bwList = [ord(sym) for sym in bw]\n",
    "    bwList = bwList[:idx]\n",
    "    return sum([ord(letter) == sym for sym in bwList])\n",
    "\n",
    "def LF(bw, idx, letter): #matches character and rank\n",
    "    return Occ(bw, letter) + Count(bw, idx, letter)\n",
    "\n",
    "def invBurrowsWheeler(bw: str, i=0):\n",
    "    #i = 0\n",
    "    t = \"\"\n",
    "    while bw[i] != \"$\":\n",
    "        t = bw[i] + t\n",
    "        i = LF(bw, i, bw[i])\n",
    "        \n",
    "    return(t)\n",
    "\n",
    "#Exact Matching with FM index\n",
    "def FM_Matching(bw:str, query:str):\n",
    "    top = 0\n",
    "    bot = len(bw)\n",
    "    for qc in query[::-1]:\n",
    "        top = LF(bw, top, qc)\n",
    "        bot = LF(bw, bot, qc)\n",
    "        if top == bot:\n",
    "            #print(\"Query not in Reference\")\n",
    "            return 0\n",
    "    \n",
    "    #print(\"Query in Reference at position \" + str(len(invBurrowsWheeler(bw, i=top))+1) + \".\")\n",
    "    return len(invBurrowsWheeler(bw, i=top))"
   ]
  }
 ],
 "metadata": {
  "kernelspec": {
   "display_name": "Python 3 (ipykernel)",
   "language": "python",
   "name": "python3"
  },
  "language_info": {
   "codemirror_mode": {
    "name": "ipython",
    "version": 3
   },
   "file_extension": ".py",
   "mimetype": "text/x-python",
   "name": "python",
   "nbconvert_exporter": "python",
   "pygments_lexer": "ipython3",
   "version": "3.11.4"
  }
 },
 "nbformat": 4,
 "nbformat_minor": 5
}
