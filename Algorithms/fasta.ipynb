{
 "cells": [
  {
   "cell_type": "code",
   "execution_count": 1,
   "metadata": {},
   "outputs": [
    {
     "name": "stderr",
     "output_type": "stream",
     "text": [
      "<>:9: SyntaxWarning: invalid escape sequence '\\S'\n",
      "<>:10: SyntaxWarning: invalid escape sequence '\\S'\n",
      "<>:9: SyntaxWarning: invalid escape sequence '\\S'\n",
      "<>:10: SyntaxWarning: invalid escape sequence '\\S'\n",
      "C:\\Users\\ethan\\AppData\\Local\\Temp\\ipykernel_46112\\3047608558.py:9: SyntaxWarning: invalid escape sequence '\\S'\n",
      "  hre=re.compile('>(\\S+)')\n",
      "C:\\Users\\ethan\\AppData\\Local\\Temp\\ipykernel_46112\\3047608558.py:10: SyntaxWarning: invalid escape sequence '\\S'\n",
      "  lre=re.compile('^(\\S+)$')\n"
     ]
    }
   ],
   "source": [
    "#####################\n",
    "# code to read FASTA file\n",
    "#####################\n",
    "import sys, re\n",
    "\n",
    "f=open(r\"C:\\Users\\ethan\\Downloads\\GCF_000001405.40_GRCh38.p14_protein.faa\\GCF_000001405.40_GRCh38.p14_protein.faa\",'r')\n",
    "lines=f.readlines()\n",
    "\n",
    "hre=re.compile('>(\\S+)')\n",
    "lre=re.compile('^(\\S+)$')\n",
    "\n",
    "gene={}\n",
    "\n",
    "for line in lines:\n",
    "        outh = hre.search(line)\n",
    "        if outh:\n",
    "                id=outh.group(1)\n",
    "        else:\n",
    "                outl=lre.search(line)\n",
    "                \n",
    "                if(id in gene.keys()):\n",
    "                        gene[id] += outl.group(1)\n",
    "                else:\n",
    "                        gene[id]  =outl.group(1)"
   ]
  },
  {
   "cell_type": "code",
   "execution_count": null,
   "metadata": {},
   "outputs": [],
   "source": [
    "full_seq = \"\"\n",
    "\n",
    "for genes in gene:\n",
    "    full_seq += gene[genes]\n",
    "\n",
    "full_seq"
   ]
  }
 ],
 "metadata": {
  "kernelspec": {
   "display_name": "Python 3",
   "language": "python",
   "name": "python3"
  },
  "language_info": {
   "codemirror_mode": {
    "name": "ipython",
    "version": 3
   },
   "file_extension": ".py",
   "mimetype": "text/x-python",
   "name": "python",
   "nbconvert_exporter": "python",
   "pygments_lexer": "ipython3",
   "version": "3.12.1"
  }
 },
 "nbformat": 4,
 "nbformat_minor": 2
}
